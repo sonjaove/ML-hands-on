{
 "cells": [
  {
   "cell_type": "code",
   "execution_count": 1,
   "metadata": {},
   "outputs": [],
   "source": [
    "#importing the necessary libraries\n",
    "import numpy as np\n",
    "import geopandas as gpd\n",
    "import matplotlib.pyplot as plt\n",
    "from shapely.geometry import box,shape,Point,LineString,Polygon\n",
    "import pandas as pd\n",
    "from fiona import open\n",
    "from fastkml import kml\n",
    "import xml.etree.ElementTree as ET"
   ]
  },
  {
   "cell_type": "markdown",
   "metadata": {},
   "source": [
    "def kml_to_gdf(kml_file):\n",
    "    with open(kml_file, 'r', encoding='utf-8') as f:\n",
    "        doc = f.read().encode('utf-8')\n",
    "        \n",
    "    k = kml.KML()\n",
    "    k.from_string(doc)\n",
    "    \n",
    "    document = list(k.features())[0]\n",
    "    \n",
    "    # Extracting the first folder\n",
    "    folder = list(document.features())[0]\n",
    "    \n",
    "    placemarks = []\n",
    "    \n",
    "    for feature in folder.features():\n",
    "        for subfeature in feature.features():\n",
    "            placemarks.append({\n",
    "                'name': subfeature.name,\n",
    "                'description': subfeature.description,\n",
    "                'geometry': shape(subfeature.geometry)\n",
    "            })\n",
    "    \n",
    "    gdf = gpd.GeoDataFrame(placemarks)\n",
    "    return gdf"
   ]
  },
  {
   "cell_type": "code",
   "execution_count": 4,
   "metadata": {},
   "outputs": [],
   "source": [
    "def parse_kml_coordinates(coord_text):\n",
    "    coords = []\n",
    "    for coord in coord_text.strip().split():\n",
    "        lon, lat, _ = map(float, coord.split(','))\n",
    "        coords.append((lon, lat))\n",
    "    return coords\n",
    "\n",
    "def kml_to_gdf(kml_file):\n",
    "    tree = ET.parse(kml_file)\n",
    "    root = tree.getroot()\n",
    "\n",
    "    namespace = {'kml': 'http://www.opengis.net/kml/2.2'}\n",
    "\n",
    "    placemarks = []\n",
    "\n",
    "    for placemark in root.findall('.//kml:Placemark', namespace):\n",
    "        name = placemark.find('kml:name', namespace).text if placemark.find('kml:name', namespace) is not None else None\n",
    "        description = placemark.find('kml:description', namespace).text if placemark.find('kml:description', namespace) is not None else None\n",
    "        geometry = None\n",
    "\n",
    "        if placemark.find('.//kml:Point/kml:coordinates', namespace) is not None:\n",
    "            coords = placemark.find('.//kml:Point/kml:coordinates', namespace).text\n",
    "            geometry = Point(parse_kml_coordinates(coords)[0])\n",
    "        elif placemark.find('.//kml:LineString/kml:coordinates', namespace) is not None:\n",
    "            coords = placemark.find('.//kml:LineString/kml:coordinates', namespace).text\n",
    "            geometry = LineString(parse_kml_coordinates(coords))\n",
    "        elif placemark.find('.//kml:Polygon/kml:coordinates', namespace) is not None:\n",
    "            coords = placemark.find('.//kml:Polygon/kml:coordinates', namespace).text\n",
    "            geometry = Polygon(parse_kml_coordinates(coords))\n",
    "\n",
    "        if geometry is not None:\n",
    "            placemarks.append({\n",
    "                'name': name,\n",
    "                'description': description,\n",
    "                'geometry': geometry\n",
    "            })\n",
    "        print(f\"Number of placemarks processed: {len(placemarks)}\")\n",
    "    gdf = gpd.GeoDataFrame(placemarks)\n",
    "    return gdf"
   ]
  },
  {
   "cell_type": "code",
   "execution_count": 5,
   "metadata": {},
   "outputs": [
    {
     "name": "stdout",
     "output_type": "stream",
     "text": [
      "Number of placemarks processed: 0\n"
     ]
    },
    {
     "data": {
      "text/html": [
       "<div>\n",
       "<style scoped>\n",
       "    .dataframe tbody tr th:only-of-type {\n",
       "        vertical-align: middle;\n",
       "    }\n",
       "\n",
       "    .dataframe tbody tr th {\n",
       "        vertical-align: top;\n",
       "    }\n",
       "\n",
       "    .dataframe thead th {\n",
       "        text-align: right;\n",
       "    }\n",
       "</style>\n",
       "<table border=\"1\" class=\"dataframe\">\n",
       "  <thead>\n",
       "    <tr style=\"text-align: right;\">\n",
       "      <th></th>\n",
       "    </tr>\n",
       "  </thead>\n",
       "  <tbody>\n",
       "  </tbody>\n",
       "</table>\n",
       "</div>"
      ],
      "text/plain": [
       "Empty GeoDataFrame\n",
       "Columns: []\n",
       "Index: []"
      ]
     },
     "execution_count": 5,
     "metadata": {},
     "output_type": "execute_result"
    }
   ],
   "source": [
    "gdf = kml_to_gdf(r'C:\\Users\\Ankit\\Documents\\Vedanshi\\ML-hands-on\\course_work\\crown\\data\\crown.kml')\n",
    "gdf"
   ]
  },
  {
   "cell_type": "code",
   "execution_count": 7,
   "metadata": {},
   "outputs": [
    {
     "name": "stdout",
     "output_type": "stream",
     "text": [
      "{http://www.opengis.net/kml/2.2}kml\n",
      "  {http://www.opengis.net/kml/2.2}Document\n",
      "    {http://www.opengis.net/kml/2.2}name\n",
      "    {http://www.google.com/kml/ext/2.2}CascadingStyle\n",
      "      {http://www.opengis.net/kml/2.2}Style\n",
      "        {http://www.opengis.net/kml/2.2}IconStyle\n",
      "          {http://www.opengis.net/kml/2.2}scale\n",
      "          {http://www.opengis.net/kml/2.2}Icon\n",
      "            {http://www.opengis.net/kml/2.2}href\n",
      "          {http://www.opengis.net/kml/2.2}hotSpot\n",
      "        {http://www.opengis.net/kml/2.2}LabelStyle\n",
      "        {http://www.opengis.net/kml/2.2}LineStyle\n",
      "          {http://www.opengis.net/kml/2.2}color\n",
      "          {http://www.opengis.net/kml/2.2}width\n",
      "        {http://www.opengis.net/kml/2.2}PolyStyle\n",
      "          {http://www.opengis.net/kml/2.2}color\n",
      "        {http://www.opengis.net/kml/2.2}BalloonStyle\n",
      "    {http://www.google.com/kml/ext/2.2}CascadingStyle\n",
      "      {http://www.opengis.net/kml/2.2}Style\n",
      "        {http://www.opengis.net/kml/2.2}IconStyle\n",
      "          {http://www.opengis.net/kml/2.2}Icon\n",
      "            {http://www.opengis.net/kml/2.2}href\n",
      "          {http://www.opengis.net/kml/2.2}hotSpot\n",
      "        {http://www.opengis.net/kml/2.2}LabelStyle\n",
      "        {http://www.opengis.net/kml/2.2}LineStyle\n",
      "          {http://www.opengis.net/kml/2.2}color\n",
      "          {http://www.opengis.net/kml/2.2}width\n",
      "        {http://www.opengis.net/kml/2.2}PolyStyle\n",
      "          {http://www.opengis.net/kml/2.2}color\n",
      "        {http://www.opengis.net/kml/2.2}BalloonStyle\n",
      "    {http://www.opengis.net/kml/2.2}StyleMap\n",
      "      {http://www.opengis.net/kml/2.2}Pair\n",
      "        {http://www.opengis.net/kml/2.2}key\n",
      "        {http://www.opengis.net/kml/2.2}styleUrl\n",
      "      {http://www.opengis.net/kml/2.2}Pair\n",
      "        {http://www.opengis.net/kml/2.2}key\n",
      "        {http://www.opengis.net/kml/2.2}styleUrl\n",
      "    {http://www.opengis.net/kml/2.2}Placemark\n",
      "      {http://www.opengis.net/kml/2.2}name\n",
      "      {http://www.opengis.net/kml/2.2}LookAt\n",
      "        {http://www.opengis.net/kml/2.2}longitude\n",
      "        {http://www.opengis.net/kml/2.2}latitude\n",
      "        {http://www.opengis.net/kml/2.2}altitude\n",
      "        {http://www.opengis.net/kml/2.2}heading\n",
      "        {http://www.opengis.net/kml/2.2}tilt\n",
      "        {http://www.google.com/kml/ext/2.2}fovy\n",
      "        {http://www.opengis.net/kml/2.2}range\n",
      "        {http://www.opengis.net/kml/2.2}altitudeMode\n",
      "      {http://www.opengis.net/kml/2.2}styleUrl\n",
      "      {http://www.opengis.net/kml/2.2}Polygon\n",
      "        {http://www.opengis.net/kml/2.2}outerBoundaryIs\n",
      "          {http://www.opengis.net/kml/2.2}LinearRing\n",
      "            {http://www.opengis.net/kml/2.2}coordinates\n"
     ]
    }
   ],
   "source": [
    "def print_kml_structure(element, indent=''):\n",
    "    print(f\"{indent}{element.tag}\")\n",
    "    for child in element:\n",
    "        print_kml_structure(child, indent + '  ')\n",
    "\n",
    "tree = ET.parse(r'C:\\Users\\Ankit\\Documents\\Vedanshi\\ML-hands-on\\course_work\\crown\\data\\crown.kml')\n",
    "root = tree.getroot()\n",
    "print_kml_structure(root)"
   ]
  },
  {
   "cell_type": "markdown",
   "metadata": {},
   "source": [
    "# failed reading the kml"
   ]
  }
 ],
 "metadata": {
  "kernelspec": {
   "display_name": "base",
   "language": "python",
   "name": "python3"
  },
  "language_info": {
   "codemirror_mode": {
    "name": "ipython",
    "version": 3
   },
   "file_extension": ".py",
   "mimetype": "text/x-python",
   "name": "python",
   "nbconvert_exporter": "python",
   "pygments_lexer": "ipython3",
   "version": "3.12.3"
  }
 },
 "nbformat": 4,
 "nbformat_minor": 2
}
