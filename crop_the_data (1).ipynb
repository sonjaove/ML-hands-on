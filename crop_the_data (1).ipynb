{
 "cells": [
  {
   "cell_type": "code",
   "execution_count": 1,
   "metadata": {},
   "outputs": [],
   "source": [
    "import geopandas as gpd\n",
    "from netCDF4 import Dataset\n",
    "import matplotlib.pyplot as plt\n",
    "import numpy as np"
   ]
  },
  {
   "cell_type": "code",
   "execution_count": 2,
   "metadata": {},
   "outputs": [],
   "source": [
    "shapefile_path = r\"C:\\Users\\Shubham\\Desktop\\SanjeevSir_Project\\Narmada_shapefile\\NARMADA.shp\"\n",
    "gdf = gpd.read_file(shapefile_path)"
   ]
  },
  {
   "cell_type": "code",
   "execution_count": 3,
   "metadata": {},
   "outputs": [
    {
     "name": "stdout",
     "output_type": "stream",
     "text": [
      "Current CRS: PROJCS[\"WGS_1984_Lambert_Conformal_Conic\",GEOGCS[\"WGS 84\",DATUM[\"WGS_1984\",SPHEROID[\"WGS 84\",6378137,298.257223563,AUTHORITY[\"EPSG\",\"7030\"]],AUTHORITY[\"EPSG\",\"6326\"]],PRIMEM[\"Greenwich\",0],UNIT[\"Degree\",0.0174532925199433]],PROJECTION[\"Lambert_Conformal_Conic_2SP\"],PARAMETER[\"latitude_of_origin\",24],PARAMETER[\"central_meridian\",80],PARAMETER[\"standard_parallel_1\",12.4729444],PARAMETER[\"standard_parallel_2\",35.17280555],PARAMETER[\"false_easting\",4000000],PARAMETER[\"false_northing\",4000000],UNIT[\"metre\",1,AUTHORITY[\"EPSG\",\"9001\"]],AXIS[\"Easting\",EAST],AXIS[\"Northing\",NORTH]]\n"
     ]
    }
   ],
   "source": [
    "print(f\"Current CRS: {gdf.crs}\")"
   ]
  },
  {
   "cell_type": "code",
   "execution_count": 4,
   "metadata": {},
   "outputs": [],
   "source": [
    "gdf = gdf.to_crs(epsg=4326)"
   ]
  },
  {
   "cell_type": "code",
   "execution_count": 5,
   "metadata": {},
   "outputs": [
    {
     "name": "stdout",
     "output_type": "stream",
     "text": [
      "Bounding Box: [72.73538871 21.38320554 81.77175067 23.78039251]\n"
     ]
    }
   ],
   "source": [
    "# Calculating the bounding box\n",
    "bbox = gdf.total_bounds\n",
    "print(f\"Bounding Box: {bbox}\")"
   ]
  },
  {
   "cell_type": "code",
   "execution_count": 6,
   "metadata": {},
   "outputs": [],
   "source": [
    "minx = 72\n",
    "miny = 21 \n",
    "maxx = 82\n",
    "maxy = 24"
   ]
  },
  {
   "cell_type": "code",
   "execution_count": 7,
   "metadata": {},
   "outputs": [],
   "source": [
    "nc_file = \"C:/Users/Shubham/Desktop/SanjeevSir_Project/2005_2015_2021imdgriddeddata/RF25_ind2005_rfp25.nc\"\n",
    "dataset = Dataset(nc_file, 'r')"
   ]
  },
  {
   "cell_type": "code",
   "execution_count": 8,
   "metadata": {},
   "outputs": [
    {
     "name": "stdout",
     "output_type": "stream",
     "text": [
      "All variable keys:\n",
      "dict_keys(['LONGITUDE', 'LATITUDE', 'TIME', 'RAINFALL'])\n"
     ]
    }
   ],
   "source": [
    "print(\"All variable keys:\")\n",
    "print(dataset.variables.keys())"
   ]
  },
  {
   "cell_type": "code",
   "execution_count": 9,
   "metadata": {},
   "outputs": [],
   "source": [
    "latitude = dataset.variables['LATITUDE'][:]\n",
    "longitude = dataset.variables['LONGITUDE'][:]\n",
    "precipitation = dataset.variables['RAINFALL'][:]"
   ]
  },
  {
   "cell_type": "code",
   "execution_count": 10,
   "metadata": {},
   "outputs": [],
   "source": [
    "# Create a mask for the bounding box\n",
    "lat_mask = (latitude >= miny) & (latitude <= maxy)\n",
    "lon_mask = (longitude >= minx) & (longitude <= maxx )"
   ]
  },
  {
   "cell_type": "code",
   "execution_count": 11,
   "metadata": {},
   "outputs": [],
   "source": [
    "# Crop the precipitation data to the bounding box\n",
    "precipitation_cropped = precipitation[:, lat_mask, :][:, :, lon_mask]"
   ]
  },
  {
   "cell_type": "code",
   "execution_count": 12,
   "metadata": {},
   "outputs": [
    {
     "data": {
      "text/plain": [
       "(365, 13, 41)"
      ]
     },
     "execution_count": 12,
     "metadata": {},
     "output_type": "execute_result"
    }
   ],
   "source": [
    "precipitation_cropped.shape"
   ]
  },
  {
   "cell_type": "code",
   "execution_count": 20,
   "metadata": {},
   "outputs": [],
   "source": [
    "precipitation_day1 = precipitation_cropped[200]"
   ]
  },
  {
   "cell_type": "code",
   "execution_count": 21,
   "metadata": {},
   "outputs": [],
   "source": [
    "precip_day1 = precipitation_day1.filled(fill_value=0)"
   ]
  },
  {
   "cell_type": "code",
   "execution_count": 25,
   "metadata": {},
   "outputs": [
    {
     "data": {
      "text/plain": [
       "masked_array(\n",
       "  data=[[--, --, --, 0.0, 0.0, 0.40042415261268616, 0.6658009886741638,\n",
       "         1.6715970039367676, 0.0, 0.0, 0.0, 0.0, 0.0, 0.0, 0.0,\n",
       "         0.1595853865146637, 0.31597694754600525, 3.90224027633667,\n",
       "         10.346168518066406, 17.698389053344727, 17.805065155029297,\n",
       "         7.824031352996826, 0.38016170263290405, 3.108949899673462,\n",
       "         17.89613914489746, 17.631019592285156, 9.4110107421875,\n",
       "         1.6675392389297485, 0.6045382618904114, 0.5945296287536621,\n",
       "         0.9701513051986694, 0.9417376518249512, 0.630214512348175,\n",
       "         0.13220596313476562, 0.0, 0.0, 0.0, 0.0, 0.0, 0.0, 0.0],\n",
       "        [0.0, --, 0.0, 0.0, 0.0, 0.0, 0.0, 0.0, 0.0, 0.0, 0.0, 0.0, 0.0,\n",
       "         0.0, 0.0, 0.18036067485809326, 0.5226172208786011,\n",
       "         0.46770215034484863, 2.411219358444214, 8.79500675201416,\n",
       "         4.261721611022949, 0.7790322303771973, 1.1889286041259766,\n",
       "         2.6582765579223633, 14.332927703857422, 23.85802459716797,\n",
       "         15.693062782287598, 2.9144680500030518, 2.7356948852539062,\n",
       "         2.6669461727142334, 5.114290237426758, 4.619383335113525,\n",
       "         1.5713359117507935, 1.225134015083313, 0.0, 0.0, 0.0, 0.0, 0.0,\n",
       "         0.0, 0.0],\n",
       "        [0.0, --, 0.0, 0.0, 0.0, 0.0, 0.0, 0.0, 0.0, 0.0, 0.0, 0.0, 0.0,\n",
       "         0.0, 0.0, 0.0, 0.219848170876503, 0.2820529043674469,\n",
       "         0.19993607699871063, 0.38375622034072876, 0.7500426769256592,\n",
       "         0.9498118758201599, 3.1985793113708496, 13.65737247467041,\n",
       "         32.22431945800781, 46.36227035522461, 40.07837677001953,\n",
       "         29.47939109802246, 18.29874038696289, 17.09638214111328,\n",
       "         11.862325668334961, 6.114035129547119, 0.42438220977783203,\n",
       "         0.18170873820781708, 0.0, 0.0, 0.0, 0.0, 0.0, 0.0, 0.0],\n",
       "        [0.0, 0.0, 0.0, 0.0, 0.0, 0.0, 0.0, 0.0, 0.0, 0.0, 0.0, 0.0, 0.0,\n",
       "         0.0, 0.0, 0.0, 0.0, 0.0, 0.0, 0.14810656011104584,\n",
       "         0.4911613464355469, 0.7648693919181824, 3.2599117755889893,\n",
       "         13.620017051696777, 43.00033187866211, 46.32257843017578,\n",
       "         62.01972198486328, 60.67119598388672, 36.585182189941406,\n",
       "         23.058944702148438, 16.346473693847656, 12.008906364440918,\n",
       "         7.915345191955566, 3.104177236557007, 0.0, 0.0, 0.0, 0.0, 0.0,\n",
       "         0.0, 0.0],\n",
       "        [0.0, 0.0, 0.0, 0.0, 0.0, 0.0, 0.0, 0.0, 0.0, 0.0, 0.0, 0.0, 0.0,\n",
       "         0.0, 0.0, 0.0, 0.0, 0.0, 0.0, 0.0, 0.0, 0.13604891300201416,\n",
       "         0.0, 9.573862075805664, 11.918669700622559, 64.01614379882812,\n",
       "         78.33792114257812, 31.287017822265625, 21.18149185180664,\n",
       "         26.839889526367188, 25.26799201965332, 11.390164375305176,\n",
       "         6.487549781799316, 0.49223122000694275, 0.0, 0.0, 0.0, 0.0,\n",
       "         1.528610110282898, 1.4829449653625488, 0.5221427083015442],\n",
       "        [0.0, 0.0, 0.0, 0.0, 0.0, 0.0, 0.0, 0.0, 0.0, 0.0, 0.0, 0.0, 0.0,\n",
       "         0.0, 0.0, 0.0, 2.5901265144348145, 0.1419650763273239, 0.0, 0.0,\n",
       "         0.0, 0.0, 0.0, 1.9557859897613525, 3.3608596324920654,\n",
       "         76.43112182617188, 152.92501831054688, 39.10309600830078,\n",
       "         2.854877471923828, 21.310876846313477, 19.144359588623047,\n",
       "         2.274949789047241, 0.0, 0.0, 0.0, 0.0, 0.0, 1.7084715366363525,\n",
       "         2.6348767280578613, 2.4596991539001465, 1.3630856275558472],\n",
       "        [0.0, 0.0, 0.0, 0.0, 0.0, 0.0, 0.0, 0.0, 0.0, 0.0, 0.0, 0.0, 0.0,\n",
       "         0.0, 0.0, 0.0, 34.765769958496094, 29.729339599609375,\n",
       "         4.972960472106934, 0.0, 0.0, 0.0, 0.0, 0.11304141581058502,\n",
       "         3.3785669803619385, 10.946806907653809, 112.44499206542969,\n",
       "         72.50763702392578, 3.9556972980499268, 2.8801300525665283,\n",
       "         0.7983224391937256, 0.0, 0.0, 0.0, 0.0, 0.0,\n",
       "         0.22327736020088196, 2.083212375640869, 2.9968297481536865,\n",
       "         3.157846450805664, 2.623037099838257],\n",
       "        [0.0, 0.0, 0.0, 0.0, 0.0, 0.0, 0.0, 0.0, 0.0, 0.0, 0.0, 0.0,\n",
       "         0.1614748239517212, 0.0, 0.0, 0.0, 23.926395416259766,\n",
       "         29.252975463867188, 2.6481823921203613, 0.6789810061454773,\n",
       "         0.1972859501838684, 0.0, 0.0, 0.0, 2.136701822280884,\n",
       "         16.08281707763672, 12.531725883483887, 0.4380187690258026,\n",
       "         3.075975179672241, 1.1955029964447021, 0.20550236105918884, 0.0,\n",
       "         0.0, 0.5577396750450134, 0.0, 0.0, 0.42130327224731445,\n",
       "         1.8580795526504517, 3.3372931480407715, 3.381903648376465,\n",
       "         3.1488497257232666],\n",
       "        [0.0, 0.0, 0.0, 0.0, 0.0, 0.0, 0.0, 0.0, 0.0, 0.0, 0.0, 0.0,\n",
       "         1.4851516485214233, 0.2387208342552185, 0.0, 0.0, 0.0,\n",
       "         1.6030393838882446, 4.533010005950928, 4.315347194671631,\n",
       "         1.8854068517684937, 0.5269647836685181, 0.0, 0.3194774091243744,\n",
       "         0.35967424511909485, 0.0, 0.0, 0.0, 0.0, 0.0, 0.392558753490448,\n",
       "         2.047805070877075, 5.861921787261963, 1.1338958740234375,\n",
       "         1.0009475946426392, 0.0, 0.0, 2.1487314701080322,\n",
       "         3.439554452896118, 3.564476490020752, 3.8743834495544434],\n",
       "        [0.0, 0.0, 0.0, 0.0, 0.0, 0.0, 0.0, 0.0, 0.0, 0.0, 0.0, 0.0,\n",
       "         0.5157337784767151, 0.48484209179878235, 0.0, 0.0,\n",
       "         1.901082158088684, 3.1923329830169678, 1.1422226428985596,\n",
       "         0.8147203922271729, 1.139801263809204, 0.0, 0.0,\n",
       "         0.15671412646770477, 0.26229435205459595, 0.0, 0.0, 0.0, 0.0,\n",
       "         0.0, 0.41413676738739014, 0.8759899139404297, 10.53524398803711,\n",
       "         10.409311294555664, 0.4511707127094269, 0.6111139059066772,\n",
       "         1.7235008478164673, 4.741732597351074, 5.594546318054199,\n",
       "         6.299680709838867, 6.135691165924072],\n",
       "        [0.0, 0.0, 0.0, 0.0, 0.0, 0.0, 0.0, 0.0, 0.0, 0.0, 0.0, 0.0, 0.0,\n",
       "         0.0, 0.0, 0.0, 4.015604496002197, 1.9328422546386719, 0.0, 0.0,\n",
       "         0.0, 0.0, 0.0, 0.0, 0.0, 0.767379105091095, 3.0024704933166504,\n",
       "         0.4806356132030487, 0.0, 0.0, 0.0, 2.4085311889648438,\n",
       "         0.9747288823127747, 2.0545437335968018, 1.158813714981079,\n",
       "         0.8621128797531128, 5.566978454589844, 8.436254501342773,\n",
       "         10.818856239318848, 10.675660133361816, 10.499642372131348],\n",
       "        [0.0, 0.0, 0.0, 0.0, 0.0, 0.0, 0.0, 0.0, 0.0, 0.0, 0.0, 0.0, 0.0,\n",
       "         0.0, 0.0, 0.0, 6.889387607574463, 2.8281090259552, 0.0, 0.0,\n",
       "         0.0, 0.0, 0.0, 0.0, 0.19570785760879517, 0.5491260886192322,\n",
       "         1.2328089475631714, 0.49088260531425476, 0.0, 0.0,\n",
       "         0.11912579089403152, 4.8269362449646, 5.789982795715332,\n",
       "         3.2348291873931885, 0.958349347114563, 0.608604371547699,\n",
       "         2.613234281539917, 11.320966720581055, 11.351690292358398,\n",
       "         11.466902732849121, 10.614441871643066],\n",
       "        [0.0, 0.0, 0.0, 0.0, 0.0, 0.0, 0.0, 0.0, 0.0, 0.0, 0.0, 0.0, 0.0,\n",
       "         0.0, 0.0, 0.0, 0.8494186401367188, 0.0, 0.0, 0.0, 0.0, 0.0, 0.0,\n",
       "         0.0, 7.065427303314209, 9.097031593322754, 1.0784283876419067,\n",
       "         0.0, 11.960397720336914, 1.3816075325012207, 2.906827211380005,\n",
       "         1.0059963464736938, 1.3007711172103882, 0.9811744093894958,\n",
       "         1.566097378730774, 4.673657417297363, 8.470616340637207,\n",
       "         9.912368774414062, 9.370306968688965, 11.570104598999023,\n",
       "         10.111274719238281]],\n",
       "  mask=[[ True,  True,  True, False, False, False, False, False, False,\n",
       "         False, False, False, False, False, False, False, False, False,\n",
       "         False, False, False, False, False, False, False, False, False,\n",
       "         False, False, False, False, False, False, False, False, False,\n",
       "         False, False, False, False, False],\n",
       "        [False,  True, False, False, False, False, False, False, False,\n",
       "         False, False, False, False, False, False, False, False, False,\n",
       "         False, False, False, False, False, False, False, False, False,\n",
       "         False, False, False, False, False, False, False, False, False,\n",
       "         False, False, False, False, False],\n",
       "        [False,  True, False, False, False, False, False, False, False,\n",
       "         False, False, False, False, False, False, False, False, False,\n",
       "         False, False, False, False, False, False, False, False, False,\n",
       "         False, False, False, False, False, False, False, False, False,\n",
       "         False, False, False, False, False],\n",
       "        [False, False, False, False, False, False, False, False, False,\n",
       "         False, False, False, False, False, False, False, False, False,\n",
       "         False, False, False, False, False, False, False, False, False,\n",
       "         False, False, False, False, False, False, False, False, False,\n",
       "         False, False, False, False, False],\n",
       "        [False, False, False, False, False, False, False, False, False,\n",
       "         False, False, False, False, False, False, False, False, False,\n",
       "         False, False, False, False, False, False, False, False, False,\n",
       "         False, False, False, False, False, False, False, False, False,\n",
       "         False, False, False, False, False],\n",
       "        [False, False, False, False, False, False, False, False, False,\n",
       "         False, False, False, False, False, False, False, False, False,\n",
       "         False, False, False, False, False, False, False, False, False,\n",
       "         False, False, False, False, False, False, False, False, False,\n",
       "         False, False, False, False, False],\n",
       "        [False, False, False, False, False, False, False, False, False,\n",
       "         False, False, False, False, False, False, False, False, False,\n",
       "         False, False, False, False, False, False, False, False, False,\n",
       "         False, False, False, False, False, False, False, False, False,\n",
       "         False, False, False, False, False],\n",
       "        [False, False, False, False, False, False, False, False, False,\n",
       "         False, False, False, False, False, False, False, False, False,\n",
       "         False, False, False, False, False, False, False, False, False,\n",
       "         False, False, False, False, False, False, False, False, False,\n",
       "         False, False, False, False, False],\n",
       "        [False, False, False, False, False, False, False, False, False,\n",
       "         False, False, False, False, False, False, False, False, False,\n",
       "         False, False, False, False, False, False, False, False, False,\n",
       "         False, False, False, False, False, False, False, False, False,\n",
       "         False, False, False, False, False],\n",
       "        [False, False, False, False, False, False, False, False, False,\n",
       "         False, False, False, False, False, False, False, False, False,\n",
       "         False, False, False, False, False, False, False, False, False,\n",
       "         False, False, False, False, False, False, False, False, False,\n",
       "         False, False, False, False, False],\n",
       "        [False, False, False, False, False, False, False, False, False,\n",
       "         False, False, False, False, False, False, False, False, False,\n",
       "         False, False, False, False, False, False, False, False, False,\n",
       "         False, False, False, False, False, False, False, False, False,\n",
       "         False, False, False, False, False],\n",
       "        [False, False, False, False, False, False, False, False, False,\n",
       "         False, False, False, False, False, False, False, False, False,\n",
       "         False, False, False, False, False, False, False, False, False,\n",
       "         False, False, False, False, False, False, False, False, False,\n",
       "         False, False, False, False, False],\n",
       "        [False, False, False, False, False, False, False, False, False,\n",
       "         False, False, False, False, False, False, False, False, False,\n",
       "         False, False, False, False, False, False, False, False, False,\n",
       "         False, False, False, False, False, False, False, False, False,\n",
       "         False, False, False, False, False]],\n",
       "  fill_value=-999.0)"
      ]
     },
     "execution_count": 25,
     "metadata": {},
     "output_type": "execute_result"
    }
   ],
   "source": [
    "precipitation_day1"
   ]
  },
  {
   "cell_type": "code",
   "execution_count": 26,
   "metadata": {},
   "outputs": [
    {
     "data": {
      "text/plain": [
       "array([[0.00000000e+00, 0.00000000e+00, 0.00000000e+00, 0.00000000e+00,\n",
       "        0.00000000e+00, 4.00424153e-01, 6.65800989e-01, 1.67159700e+00,\n",
       "        0.00000000e+00, 0.00000000e+00, 0.00000000e+00, 0.00000000e+00,\n",
       "        0.00000000e+00, 0.00000000e+00, 0.00000000e+00, 1.59585387e-01,\n",
       "        3.15976948e-01, 3.90224028e+00, 1.03461685e+01, 1.76983891e+01,\n",
       "        1.78050652e+01, 7.82403135e+00, 3.80161703e-01, 3.10894990e+00,\n",
       "        1.78961391e+01, 1.76310196e+01, 9.41101074e+00, 1.66753924e+00,\n",
       "        6.04538262e-01, 5.94529629e-01, 9.70151305e-01, 9.41737652e-01,\n",
       "        6.30214512e-01, 1.32205963e-01, 0.00000000e+00, 0.00000000e+00,\n",
       "        0.00000000e+00, 0.00000000e+00, 0.00000000e+00, 0.00000000e+00,\n",
       "        0.00000000e+00],\n",
       "       [0.00000000e+00, 0.00000000e+00, 0.00000000e+00, 0.00000000e+00,\n",
       "        0.00000000e+00, 0.00000000e+00, 0.00000000e+00, 0.00000000e+00,\n",
       "        0.00000000e+00, 0.00000000e+00, 0.00000000e+00, 0.00000000e+00,\n",
       "        0.00000000e+00, 0.00000000e+00, 0.00000000e+00, 1.80360675e-01,\n",
       "        5.22617221e-01, 4.67702150e-01, 2.41121936e+00, 8.79500675e+00,\n",
       "        4.26172161e+00, 7.79032230e-01, 1.18892860e+00, 2.65827656e+00,\n",
       "        1.43329277e+01, 2.38580246e+01, 1.56930628e+01, 2.91446805e+00,\n",
       "        2.73569489e+00, 2.66694617e+00, 5.11429024e+00, 4.61938334e+00,\n",
       "        1.57133591e+00, 1.22513402e+00, 0.00000000e+00, 0.00000000e+00,\n",
       "        0.00000000e+00, 0.00000000e+00, 0.00000000e+00, 0.00000000e+00,\n",
       "        0.00000000e+00],\n",
       "       [0.00000000e+00, 0.00000000e+00, 0.00000000e+00, 0.00000000e+00,\n",
       "        0.00000000e+00, 0.00000000e+00, 0.00000000e+00, 0.00000000e+00,\n",
       "        0.00000000e+00, 0.00000000e+00, 0.00000000e+00, 0.00000000e+00,\n",
       "        0.00000000e+00, 0.00000000e+00, 0.00000000e+00, 0.00000000e+00,\n",
       "        2.19848171e-01, 2.82052904e-01, 1.99936077e-01, 3.83756220e-01,\n",
       "        7.50042677e-01, 9.49811876e-01, 3.19857931e+00, 1.36573725e+01,\n",
       "        3.22243195e+01, 4.63622704e+01, 4.00783768e+01, 2.94793911e+01,\n",
       "        1.82987404e+01, 1.70963821e+01, 1.18623257e+01, 6.11403513e+00,\n",
       "        4.24382210e-01, 1.81708738e-01, 0.00000000e+00, 0.00000000e+00,\n",
       "        0.00000000e+00, 0.00000000e+00, 0.00000000e+00, 0.00000000e+00,\n",
       "        0.00000000e+00],\n",
       "       [0.00000000e+00, 0.00000000e+00, 0.00000000e+00, 0.00000000e+00,\n",
       "        0.00000000e+00, 0.00000000e+00, 0.00000000e+00, 0.00000000e+00,\n",
       "        0.00000000e+00, 0.00000000e+00, 0.00000000e+00, 0.00000000e+00,\n",
       "        0.00000000e+00, 0.00000000e+00, 0.00000000e+00, 0.00000000e+00,\n",
       "        0.00000000e+00, 0.00000000e+00, 0.00000000e+00, 1.48106560e-01,\n",
       "        4.91161346e-01, 7.64869392e-01, 3.25991178e+00, 1.36200171e+01,\n",
       "        4.30003319e+01, 4.63225784e+01, 6.20197220e+01, 6.06711960e+01,\n",
       "        3.65851822e+01, 2.30589447e+01, 1.63464737e+01, 1.20089064e+01,\n",
       "        7.91534519e+00, 3.10417724e+00, 0.00000000e+00, 0.00000000e+00,\n",
       "        0.00000000e+00, 0.00000000e+00, 0.00000000e+00, 0.00000000e+00,\n",
       "        0.00000000e+00],\n",
       "       [0.00000000e+00, 0.00000000e+00, 0.00000000e+00, 0.00000000e+00,\n",
       "        0.00000000e+00, 0.00000000e+00, 0.00000000e+00, 0.00000000e+00,\n",
       "        0.00000000e+00, 0.00000000e+00, 0.00000000e+00, 0.00000000e+00,\n",
       "        0.00000000e+00, 0.00000000e+00, 0.00000000e+00, 0.00000000e+00,\n",
       "        0.00000000e+00, 0.00000000e+00, 0.00000000e+00, 0.00000000e+00,\n",
       "        0.00000000e+00, 1.36048913e-01, 0.00000000e+00, 9.57386208e+00,\n",
       "        1.19186697e+01, 6.40161438e+01, 7.83379211e+01, 3.12870178e+01,\n",
       "        2.11814919e+01, 2.68398895e+01, 2.52679920e+01, 1.13901644e+01,\n",
       "        6.48754978e+00, 4.92231220e-01, 0.00000000e+00, 0.00000000e+00,\n",
       "        0.00000000e+00, 0.00000000e+00, 1.52861011e+00, 1.48294497e+00,\n",
       "        5.22142708e-01],\n",
       "       [0.00000000e+00, 0.00000000e+00, 0.00000000e+00, 0.00000000e+00,\n",
       "        0.00000000e+00, 0.00000000e+00, 0.00000000e+00, 0.00000000e+00,\n",
       "        0.00000000e+00, 0.00000000e+00, 0.00000000e+00, 0.00000000e+00,\n",
       "        0.00000000e+00, 0.00000000e+00, 0.00000000e+00, 0.00000000e+00,\n",
       "        2.59012651e+00, 1.41965076e-01, 0.00000000e+00, 0.00000000e+00,\n",
       "        0.00000000e+00, 0.00000000e+00, 0.00000000e+00, 1.95578599e+00,\n",
       "        3.36085963e+00, 7.64311218e+01, 1.52925018e+02, 3.91030960e+01,\n",
       "        2.85487747e+00, 2.13108768e+01, 1.91443596e+01, 2.27494979e+00,\n",
       "        0.00000000e+00, 0.00000000e+00, 0.00000000e+00, 0.00000000e+00,\n",
       "        0.00000000e+00, 1.70847154e+00, 2.63487673e+00, 2.45969915e+00,\n",
       "        1.36308563e+00],\n",
       "       [0.00000000e+00, 0.00000000e+00, 0.00000000e+00, 0.00000000e+00,\n",
       "        0.00000000e+00, 0.00000000e+00, 0.00000000e+00, 0.00000000e+00,\n",
       "        0.00000000e+00, 0.00000000e+00, 0.00000000e+00, 0.00000000e+00,\n",
       "        0.00000000e+00, 0.00000000e+00, 0.00000000e+00, 0.00000000e+00,\n",
       "        3.47657700e+01, 2.97293396e+01, 4.97296047e+00, 0.00000000e+00,\n",
       "        0.00000000e+00, 0.00000000e+00, 0.00000000e+00, 1.13041416e-01,\n",
       "        3.37856698e+00, 1.09468069e+01, 1.12444992e+02, 7.25076370e+01,\n",
       "        3.95569730e+00, 2.88013005e+00, 7.98322439e-01, 0.00000000e+00,\n",
       "        0.00000000e+00, 0.00000000e+00, 0.00000000e+00, 0.00000000e+00,\n",
       "        2.23277360e-01, 2.08321238e+00, 2.99682975e+00, 3.15784645e+00,\n",
       "        2.62303710e+00],\n",
       "       [0.00000000e+00, 0.00000000e+00, 0.00000000e+00, 0.00000000e+00,\n",
       "        0.00000000e+00, 0.00000000e+00, 0.00000000e+00, 0.00000000e+00,\n",
       "        0.00000000e+00, 0.00000000e+00, 0.00000000e+00, 0.00000000e+00,\n",
       "        1.61474824e-01, 0.00000000e+00, 0.00000000e+00, 0.00000000e+00,\n",
       "        2.39263954e+01, 2.92529755e+01, 2.64818239e+00, 6.78981006e-01,\n",
       "        1.97285950e-01, 0.00000000e+00, 0.00000000e+00, 0.00000000e+00,\n",
       "        2.13670182e+00, 1.60828171e+01, 1.25317259e+01, 4.38018769e-01,\n",
       "        3.07597518e+00, 1.19550300e+00, 2.05502361e-01, 0.00000000e+00,\n",
       "        0.00000000e+00, 5.57739675e-01, 0.00000000e+00, 0.00000000e+00,\n",
       "        4.21303272e-01, 1.85807955e+00, 3.33729315e+00, 3.38190365e+00,\n",
       "        3.14884973e+00],\n",
       "       [0.00000000e+00, 0.00000000e+00, 0.00000000e+00, 0.00000000e+00,\n",
       "        0.00000000e+00, 0.00000000e+00, 0.00000000e+00, 0.00000000e+00,\n",
       "        0.00000000e+00, 0.00000000e+00, 0.00000000e+00, 0.00000000e+00,\n",
       "        1.48515165e+00, 2.38720834e-01, 0.00000000e+00, 0.00000000e+00,\n",
       "        0.00000000e+00, 1.60303938e+00, 4.53301001e+00, 4.31534719e+00,\n",
       "        1.88540685e+00, 5.26964784e-01, 0.00000000e+00, 3.19477409e-01,\n",
       "        3.59674245e-01, 0.00000000e+00, 0.00000000e+00, 0.00000000e+00,\n",
       "        0.00000000e+00, 0.00000000e+00, 3.92558753e-01, 2.04780507e+00,\n",
       "        5.86192179e+00, 1.13389587e+00, 1.00094759e+00, 0.00000000e+00,\n",
       "        0.00000000e+00, 2.14873147e+00, 3.43955445e+00, 3.56447649e+00,\n",
       "        3.87438345e+00],\n",
       "       [0.00000000e+00, 0.00000000e+00, 0.00000000e+00, 0.00000000e+00,\n",
       "        0.00000000e+00, 0.00000000e+00, 0.00000000e+00, 0.00000000e+00,\n",
       "        0.00000000e+00, 0.00000000e+00, 0.00000000e+00, 0.00000000e+00,\n",
       "        5.15733778e-01, 4.84842092e-01, 0.00000000e+00, 0.00000000e+00,\n",
       "        1.90108216e+00, 3.19233298e+00, 1.14222264e+00, 8.14720392e-01,\n",
       "        1.13980126e+00, 0.00000000e+00, 0.00000000e+00, 1.56714126e-01,\n",
       "        2.62294352e-01, 0.00000000e+00, 0.00000000e+00, 0.00000000e+00,\n",
       "        0.00000000e+00, 0.00000000e+00, 4.14136767e-01, 8.75989914e-01,\n",
       "        1.05352440e+01, 1.04093113e+01, 4.51170713e-01, 6.11113906e-01,\n",
       "        1.72350085e+00, 4.74173260e+00, 5.59454632e+00, 6.29968071e+00,\n",
       "        6.13569117e+00],\n",
       "       [0.00000000e+00, 0.00000000e+00, 0.00000000e+00, 0.00000000e+00,\n",
       "        0.00000000e+00, 0.00000000e+00, 0.00000000e+00, 0.00000000e+00,\n",
       "        0.00000000e+00, 0.00000000e+00, 0.00000000e+00, 0.00000000e+00,\n",
       "        0.00000000e+00, 0.00000000e+00, 0.00000000e+00, 0.00000000e+00,\n",
       "        4.01560450e+00, 1.93284225e+00, 0.00000000e+00, 0.00000000e+00,\n",
       "        0.00000000e+00, 0.00000000e+00, 0.00000000e+00, 0.00000000e+00,\n",
       "        0.00000000e+00, 7.67379105e-01, 3.00247049e+00, 4.80635613e-01,\n",
       "        0.00000000e+00, 0.00000000e+00, 0.00000000e+00, 2.40853119e+00,\n",
       "        9.74728882e-01, 2.05454373e+00, 1.15881371e+00, 8.62112880e-01,\n",
       "        5.56697845e+00, 8.43625450e+00, 1.08188562e+01, 1.06756601e+01,\n",
       "        1.04996424e+01],\n",
       "       [0.00000000e+00, 0.00000000e+00, 0.00000000e+00, 0.00000000e+00,\n",
       "        0.00000000e+00, 0.00000000e+00, 0.00000000e+00, 0.00000000e+00,\n",
       "        0.00000000e+00, 0.00000000e+00, 0.00000000e+00, 0.00000000e+00,\n",
       "        0.00000000e+00, 0.00000000e+00, 0.00000000e+00, 0.00000000e+00,\n",
       "        6.88938761e+00, 2.82810903e+00, 0.00000000e+00, 0.00000000e+00,\n",
       "        0.00000000e+00, 0.00000000e+00, 0.00000000e+00, 0.00000000e+00,\n",
       "        1.95707858e-01, 5.49126089e-01, 1.23280895e+00, 4.90882605e-01,\n",
       "        0.00000000e+00, 0.00000000e+00, 1.19125791e-01, 4.82693624e+00,\n",
       "        5.78998280e+00, 3.23482919e+00, 9.58349347e-01, 6.08604372e-01,\n",
       "        2.61323428e+00, 1.13209667e+01, 1.13516903e+01, 1.14669027e+01,\n",
       "        1.06144419e+01],\n",
       "       [0.00000000e+00, 0.00000000e+00, 0.00000000e+00, 0.00000000e+00,\n",
       "        0.00000000e+00, 0.00000000e+00, 0.00000000e+00, 0.00000000e+00,\n",
       "        0.00000000e+00, 0.00000000e+00, 0.00000000e+00, 0.00000000e+00,\n",
       "        0.00000000e+00, 0.00000000e+00, 0.00000000e+00, 0.00000000e+00,\n",
       "        8.49418640e-01, 0.00000000e+00, 0.00000000e+00, 0.00000000e+00,\n",
       "        0.00000000e+00, 0.00000000e+00, 0.00000000e+00, 0.00000000e+00,\n",
       "        7.06542730e+00, 9.09703159e+00, 1.07842839e+00, 0.00000000e+00,\n",
       "        1.19603977e+01, 1.38160753e+00, 2.90682721e+00, 1.00599635e+00,\n",
       "        1.30077112e+00, 9.81174409e-01, 1.56609738e+00, 4.67365742e+00,\n",
       "        8.47061634e+00, 9.91236877e+00, 9.37030697e+00, 1.15701046e+01,\n",
       "        1.01112747e+01]])"
      ]
     },
     "execution_count": 26,
     "metadata": {},
     "output_type": "execute_result"
    }
   ],
   "source": [
    "precip_day1"
   ]
  },
  {
   "cell_type": "code",
   "execution_count": 27,
   "metadata": {},
   "outputs": [
    {
     "name": "stdout",
     "output_type": "stream",
     "text": [
      "Number of NaN values: 0\n",
      "Number of infinity values: 0\n"
     ]
    }
   ],
   "source": [
    "# Check for NaN values\n",
    "nan_values = np.isnan(precip_day1)\n",
    "\n",
    "# Check for infinity values\n",
    "inf_values = np.isinf(precip_day1)\n",
    "\n",
    "# To count the number of NaN and infinity values\n",
    "nan_count = np.sum(nan_values)\n",
    "inf_count = np.sum(inf_values)\n",
    "\n",
    "print(f\"Number of NaN values: {nan_count}\")\n",
    "print(f\"Number of infinity values: {inf_count}\")"
   ]
  },
  {
   "cell_type": "code",
   "execution_count": 28,
   "metadata": {},
   "outputs": [
    {
     "data": {
      "image/png": "[encoded data removed]",
      "text/plain": [
       "<Figure size 1000x600 with 2 Axes>"
      ]
     },
     "metadata": {},
     "output_type": "display_data"
    }
   ],
   "source": [
    "colorbar_min = 0  # replace with your desired minimum value\n",
    "colorbar_max = 10  # replace with your desired maximum value\n",
    "\n",
    "fig, ax = plt.subplots(figsize=(10, 6))\n",
    "\n",
    "# Create the heatmap on the Axes object `ax`\n",
    "# Add vmin and vmax to set the range of the colorbar\n",
    "c = ax.pcolormesh(longitude[lon_mask], latitude[lat_mask], precip_day1, \n",
    "                  shading='auto', vmin=colorbar_min, vmax=colorbar_max)\n",
    "# Add the colorbar\n",
    "fig.colorbar(c, ax=ax, label='Mean Annual Precipitation')\n",
    "\n",
    "# Overlay the basin boundary, make sure to specify the same Axes object `ax`\n",
    "gdf.boundary.plot(ax=ax, color='red', linewidth=2, label='Basin')\n",
    "\n",
    "# Add the legend\n",
    "ax.legend()\n",
    "\n",
    "\n",
    "# Add labels and title\n",
    "ax.set_xlabel('Longitude')\n",
    "ax.set_ylabel('Latitude')\n",
    "ax.set_title('Mean Annual Precipitation Heatmap with Basin Boundary')\n",
    "\n",
    "# Display the plot\n",
    "plt.show()"
   ]
  },
  {
   "cell_type": "code",
   "execution_count": null,
   "metadata": {},
   "outputs": [],
   "source": []
  }
 ],
 "metadata": {
  "kernelspec": {
   "display_name": "Python 3",
   "language": "python",
   "name": "python3"
  },
  "language_info": {
   "codemirror_mode": {
    "name": "ipython",
    "version": 3
   },
   "file_extension": ".py",
   "mimetype": "text/x-python",
   "name": "python",
   "nbconvert_exporter": "python",
   "pygments_lexer": "ipython3",
   "version": "3.10.10"
  }
 },
 "nbformat": 4,
 "nbformat_minor": 2
}
