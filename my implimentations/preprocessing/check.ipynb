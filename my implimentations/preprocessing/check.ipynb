{
 "cells": [
  {
   "cell_type": "code",
   "execution_count": 3,
   "metadata": {},
   "outputs": [],
   "source": [
    "import torch\n",
    "import torchvision\n",
    "import torchvision.transforms as transforms\n",
    "import torch.nn as nn\n",
    "import torch.nn.functional as F\n",
    "import torch.optim as optim\n",
    "import matplotlib.pyplot as plt\n",
    "import numpy as np\n",
    "from dataloader_1 import *"
   ]
  },
  {
   "cell_type": "code",
   "execution_count": 4,
   "metadata": {},
   "outputs": [
    {
     "name": "stdout",
     "output_type": "stream",
     "text": [
      "Train DataLoader saved to C:\\Users\\Ankit\\Documents\\Vedanshi\\ML-hands-on\\my implimentations\\normalized_data_train.pth\n",
      "Test DataLoader saved to C:\\Users\\Ankit\\Documents\\Vedanshi\\ML-hands-on\\my implimentations\\normalized_data_test.pth\n"
     ]
    }
   ],
   "source": [
    "lr_input = r'C:\\Users\\Ankit\\Documents\\Vedanshi\\img_data_crown\\lr_img_data'\n",
    "hr_input = r'C:\\Users\\Ankit\\Documents\\Vedanshi\\img_data_crown\\hr_img_data'\n",
    "save_path = r'C:\\Users\\Ankit\\Documents\\Vedanshi\\ML-hands-on\\my implimentations\\normalized_data'\n",
    "\n",
    "train_loader, test_loader = process_images(lr_input, hr_input, save_path, batch_size=64, tts_ratio=0.9, normalize=True)\n"
   ]
  }
 ],
 "metadata": {
  "kernelspec": {
   "display_name": "base",
   "language": "python",
   "name": "python3"
  },
  "language_info": {
   "codemirror_mode": {
    "name": "ipython",
    "version": 3
   },
   "file_extension": ".py",
   "mimetype": "text/x-python",
   "name": "python",
   "nbconvert_exporter": "python",
   "pygments_lexer": "ipython3",
   "version": "3.12.3"
  }
 },
 "nbformat": 4,
 "nbformat_minor": 2
}
