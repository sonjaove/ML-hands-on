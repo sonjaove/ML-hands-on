{
 "cells": [
  {
   "cell_type": "code",
   "execution_count": null,
   "metadata": {},
   "outputs": [],
   "source": [
    "import geopandas as gpd\n",
    "from netCDF4 import Dataset\n",
    "import matplotlib.pyplot as plt\n",
    "import numpy as np"
   ]
  },
  {
   "cell_type": "markdown",
   "metadata": {},
   "source": [
    "## Latitude - north to south -> horizontal lines -> acts as y\n",
    "## Longitude - east to west -> vertical lines -> acts as x"
   ]
  },
  {
   "cell_type": "markdown",
   "metadata": {},
   "source": [
    "### Loadign the required data."
   ]
  },
  {
   "cell_type": "code",
   "execution_count": null,
   "metadata": {},
   "outputs": [],
   "source": [
    "shapefile_path = r\"/home/vedanshi/Documents/DSML/IMD work/Narmada/NARMADA.shp\"\n",
    "gdf = gpd.read_file(shapefile_path)"
   ]
  },
  {
   "cell_type": "code",
   "execution_count": null,
   "metadata": {},
   "outputs": [],
   "source": [
    "print(f\"Current CRS: {gdf.crs}\")"
   ]
  },
  {
   "cell_type": "code",
   "execution_count": null,
   "metadata": {},
   "outputs": [],
   "source": [
    "gdf = gdf.to_crs(epsg=4326)"
   ]
  },
  {
   "cell_type": "code",
   "execution_count": null,
   "metadata": {},
   "outputs": [],
   "source": [
    "nc_file = \"/home/vedanshi/Documents/DSML/IMD work/Narmada/RF25_ind2005_rfp25.nc\" # 2005s data is loaded.\n",
    "dataset = Dataset(nc_file, 'r')"
   ]
  },
  {
   "cell_type": "code",
   "execution_count": null,
   "metadata": {},
   "outputs": [],
   "source": [
    "path2='/home/vedanshi/Documents/DSML/IMD work/Narmada/RF25_ind2015_rfp25.nc' # 2015s data \n",
    "dataset1 = Dataset(path2, 'r')\n",
    "path3='/home/vedanshi/Documents/DSML/IMD work/Narmada/RF25_ind2021_rfp25.nc' # 2021s data\n",
    "dataset2 = Dataset(path3, 'r')"
   ]
  },
  {
   "cell_type": "code",
   "execution_count": null,
   "metadata": {},
   "outputs": [],
   "source": [
    "print(\"All variable keys:\")\n",
    "print(dataset.variables.keys())#,'\\n',dataset1.variables.keys(),'\\n',dataset2.varaibles.keys())"
   ]
  },
  {
   "cell_type": "code",
   "execution_count": null,
   "metadata": {},
   "outputs": [],
   "source": [
    "dataset1.variables.keys()"
   ]
  },
  {
   "cell_type": "code",
   "execution_count": null,
   "metadata": {},
   "outputs": [],
   "source": [
    "dataset2.variables.keys()"
   ]
  },
  {
   "cell_type": "code",
   "execution_count": null,
   "metadata": {},
   "outputs": [],
   "source": [
    "latitude = dataset.variables['LATITUDE'][:]\n",
    "longitude = dataset.variables['LONGITUDE'][:]\n",
    "precipitation = dataset.variables['RAINFALL'][:]\n",
    "precipitation1 = dataset1.variables['RAINFALL'][:]\n",
    "precipitation2 = dataset2.variables['RAINFALL'][:]\n",
    "#latitude1 = dataset1.variables['LATITUDE'][:]\n",
    "#longitude1 = dataset1.variables['LONGITUDE'][:]\n",
    "#latitude2 = dataset2.variables['LATITUDE'][:]\n",
    "#longitude2 = dataset2.variables['LONGITUDE'][:]"
   ]
  },
  {
   "cell_type": "code",
   "execution_count": null,
   "metadata": {},
   "outputs": [],
   "source": [
    "latitude.ndim"
   ]
  },
  {
   "cell_type": "code",
   "execution_count": null,
   "metadata": {},
   "outputs": [],
   "source": [
    "miny = 21.3\n",
    "maxy = 23.8\n",
    "minx = 72.6\n",
    "maxx = 81.95"
   ]
  },
  {
   "cell_type": "code",
   "execution_count": null,
   "metadata": {},
   "outputs": [],
   "source": [
    "# Create a mask for the bounding box\n",
    "lat_mask = (latitude >= miny) & (latitude <= maxy)\n",
    "lon_mask = (longitude >= minx) & (longitude <= maxx )"
   ]
  },
  {
   "cell_type": "code",
   "execution_count": null,
   "metadata": {},
   "outputs": [],
   "source": [
    "# Crop the precipitation data to the bounding box\n",
    "precipitation_cropped = precipitation[:, lat_mask, :][:, :, lon_mask]\n",
    "precipitation_cropped1 = precipitation1[:, lat_mask, :][:, :, lon_mask]\n",
    "precipitation_cropped2 = precipitation2[:, lat_mask, :][:, :, lon_mask]"
   ]
  },
  {
   "cell_type": "code",
   "execution_count": null,
   "metadata": {},
   "outputs": [],
   "source": [
    "print(precipitation_cropped.shape==precipitation_cropped1.shape==precipitation_cropped2.shape)"
   ]
  },
  {
   "cell_type": "code",
   "execution_count": null,
   "metadata": {},
   "outputs": [],
   "source": [
    "precipitation_day = precipitation_cropped[0]\n",
    "precipitation_day1 = precipitation_cropped1[0]\n",
    "precipitation_day2 = precipitation_cropped2[0]"
   ]
  },
  {
   "cell_type": "code",
   "execution_count": null,
   "metadata": {},
   "outputs": [],
   "source": [
    "precipitation_day_flatten = precipitation_cropped[0].flatten()\n",
    "precipitation_day1_faltten = precipitation_cropped1[0].flatten()\n",
    "precipitation_day2_flatten = precipitation_cropped2[0].flatten()"
   ]
  },
  {
   "cell_type": "code",
   "execution_count": null,
   "metadata": {},
   "outputs": [],
   "source": [
    "precip_day1_2005 = precipitation_day.filled(fill_value=0)\n",
    "precip_day1_2015 = precipitation_day1.filled(fill_value=0)\n",
    "precip_day1_2021 = precipitation_day2.filled(fill_value=0)"
   ]
  },
  {
   "cell_type": "code",
   "execution_count": null,
   "metadata": {},
   "outputs": [],
   "source": [
    "precipitation={'2005':precip_day1_2005,'2015':precip_day1_2015,'2021':precip_day1_2021}"
   ]
  },
  {
   "cell_type": "code",
   "execution_count": null,
   "metadata": {},
   "outputs": [],
   "source": [
    "precipitation['2015']"
   ]
  },
  {
   "cell_type": "code",
   "execution_count": null,
   "metadata": {},
   "outputs": [],
   "source": [
    "precipitation['2021']"
   ]
  },
  {
   "cell_type": "code",
   "execution_count": null,
   "metadata": {},
   "outputs": [],
   "source": [
    "precipitation['2005']"
   ]
  },
  {
   "cell_type": "code",
   "execution_count": null,
   "metadata": {},
   "outputs": [],
   "source": [
    "colorbar_min = 0  # replace with your desired minimum value\n",
    "colorbar_max = 10  # replace with your desired maximum value\n",
    "\n",
    "fig, ax = plt.subplots(figsize=(10, 6))\n",
    "\n",
    "# Create the heatmap on the Axes object `ax`\n",
    "# Add vmin and vmax to set the range of the colorbar\n",
    "\n",
    "c = ax.pcolormesh(longitude[lon_mask], latitude[lat_mask], precip_day1_2005, \n",
    "                shading='auto', vmin=colorbar_min, vmax=colorbar_max)\n",
    "# Add the colorbar\n",
    "fig.colorbar(c, ax=ax, label='1st jan Precipitation')\n",
    "# Oerlay the basin boundary, make sure to specify the same Axes object `ax`\n",
    "gdf.boundary.plot(ax=ax, color='red', linewidth=2, label='Basin')\n",
    "# Ad the legend\n",
    "ax.legend()\n",
    "# Add labels and title\n",
    "ax.set_xlabel('Longitude')\n",
    "ax.set_ylabel('Latitude')\n",
    "ax.set_title('1st jan Precipitation Heatmap with Basin Boundary')\n",
    "# Dsplay the plot\n",
    "plt.show()"
   ]
  },
  {
   "cell_type": "code",
   "execution_count": null,
   "metadata": {},
   "outputs": [],
   "source": [
    "colorbar_min = 0  # replace with your desired minimum value\n",
    "colorbar_max = 10  # replace with your desired maximum value\n",
    "\n",
    "fig, ax = plt.subplots(figsize=(10, 6))\n",
    "\n",
    "# Create the heatmap on the Axes object `ax`\n",
    "# Add vmin and vmax to set the range of the colorbar\n",
    "\n",
    "c = ax.pcolormesh(longitude[lon_mask], latitude[lat_mask], precip_day1_2015, \n",
    "                shading='auto', vmin=colorbar_min, vmax=colorbar_max)\n",
    "# Add the colorbar\n",
    "fig.colorbar(c, ax=ax, label='1st Jan Precipitation')\n",
    "# Oerlay the basin boundary, make sure to specify the same Axes object `ax`\n",
    "gdf.boundary.plot(ax=ax, color='red', linewidth=2, label='Basin')\n",
    "# Ad the legend\n",
    "ax.legend()\n",
    "# Add labels and title\n",
    "ax.set_xlabel('Longitude')\n",
    "ax.set_ylabel('Latitude')\n",
    "ax.set_title('1st Jan Precipitation Heatmap with Basin Boundary')\n",
    "# Dsplay the plot\n",
    "plt.show()"
   ]
  },
  {
   "cell_type": "code",
   "execution_count": null,
   "metadata": {},
   "outputs": [],
   "source": [
    "colorbar_min = 0  # replace with your desired minimum value\n",
    "colorbar_max = 10  # replace with your desired maximum value\n",
    "\n",
    "fig, ax = plt.subplots(figsize=(10, 6))\n",
    "\n",
    "# Create the heatmap on the Axes object `ax`\n",
    "# Add vmin and vmax to set the range of the colorbar\n",
    "\n",
    "c = ax.pcolormesh(longitude[lon_mask], latitude[lat_mask], precip_day1_2021, \n",
    "                shading='auto', vmin=colorbar_min, vmax=colorbar_max)\n",
    "# Add the colorbar\n",
    "fig.colorbar(c, ax=ax, label='1st Jan Precipitation')\n",
    "# Oerlay the basin boundary, make sure to specify the same Axes object `ax`\n",
    "gdf.boundary.plot(ax=ax, color='red', linewidth=2, label='Basin')\n",
    "# Ad the legend\n",
    "ax.legend()\n",
    "# Add labels and title\n",
    "ax.set_xlabel('Longitude')\n",
    "ax.set_ylabel('Latitude')\n",
    "ax.set_title('1st Jan Precipitation Heatmap with Basin Boundary')\n",
    "# Dsplay the plot\n",
    "plt.show()"
   ]
  },
  {
   "cell_type": "markdown",
   "metadata": {},
   "source": [
    "We have to find the weghted area average of the closest 3-4 points, and then assing that value to the cetroid, and add the values to get the area to the main centroid of the small region."
   ]
  },
  {
   "cell_type": "markdown",
   "metadata": {},
   "source": [
    "for that we'll first have to create the custom grid that is not present in this code."
   ]
  },
  {
   "cell_type": "markdown",
   "metadata": {},
   "source": [
    "### Creating custom grid."
   ]
  },
  {
   "cell_type": "code",
   "execution_count": null,
   "metadata": {},
   "outputs": [],
   "source": [
    "# gdf is the shape file for narmada.\n",
    "# dataset is the rain data.\n",
    "import geopandas as gpd \n",
    "import matplotlib as ma\n",
    "import pandas as pd\n",
    "import threading as thread\n",
    "import fiona\n",
    "import matplotlib as plt\n",
    "import plotly.express as plt\n",
    "import numpy as np"
   ]
  },
  {
   "cell_type": "code",
   "execution_count": null,
   "metadata": {},
   "outputs": [],
   "source": [
    "bound_box=gdf.total_bounds\n",
    "minx_grid,miny_grid,maxx_grid,maxy_grid=bound_box\n",
    "bound_box"
   ]
  },
  {
   "cell_type": "code",
   "execution_count": null,
   "metadata": {},
   "outputs": [],
   "source": [
    "from shapely.geometry import box\n",
    "# Create a rectangle from these coordinates using shapely's box function\n",
    "rectangle = gpd.GeoSeries([box(minx_grid, miny_grid, maxx_grid, maxy_grid)], crs=gdf.crs)\n",
    "# Print the rectangle coordinates\n",
    "print(f\"Bounding Box Coordinates: {bound_box}\")\n",
    "print(f\"Rectangle Geometry: {rectangle}\")"
   ]
  },
  {
   "cell_type": "code",
   "execution_count": null,
   "metadata": {},
   "outputs": [],
   "source": [
    "ax=gdf.plot(color='blue',edgecolor='k')\n",
    "rectangle.plot(ax=ax, color='none', edgecolor='red') # I don't understand why is this sometiems shows an error."
   ]
  },
  {
   "cell_type": "code",
   "execution_count": null,
   "metadata": {},
   "outputs": [],
   "source": [
    "#Increase the rectangle size by 15 km in both height and width\n",
    "minx_new = minx_grid - 0.125\n",
    "miny_new = miny_grid - 0.125\n",
    "maxx_new = maxx_grid + 0.125\n",
    "maxy_new = maxy_grid + 0.125"
   ]
  },
  {
   "cell_type": "code",
   "execution_count": null,
   "metadata": {},
   "outputs": [],
   "source": [
    "new_bounding_box = [minx_new, miny_new, maxx_new, maxy_new]\n",
    "rectangle_new = gpd.GeoSeries([box(minx_new, miny_new, maxx_new, maxy_new)], crs=gdf.crs)\n",
    "# Print the new bounding box coordinates as integers\n",
    "print(f\"New Bounding Box Coordinates: {list(map(float, new_bounding_box))}\")\n",
    "\n",
    "# Calculate and print the dimensions of the new rectangle as integers\n",
    "width_new = maxx_new - minx_new\n",
    "height_new = maxy_new - miny_new\n",
    "print(f\"New Rectangle Dimensions: Width = {float(width_new)}, Height = {float(height_new)}\")"
   ]
  },
  {
   "cell_type": "code",
   "execution_count": null,
   "metadata": {},
   "outputs": [],
   "source": [
    "ax = gdf.plot(color='purple', edgecolor='k')\n",
    "rectangle_new.plot(ax=ax, color='none', edgecolor='blue')"
   ]
  },
  {
   "cell_type": "code",
   "execution_count": null,
   "metadata": {},
   "outputs": [],
   "source": [
    "# using minx and maxx, i.e the boundary poits for the grid.\n",
    "# initialize an empty list to store x-values for the custom grid\n",
    "x_values = []\n",
    "# generate x-values\n",
    "current_x = minx\n",
    "increment = 0.25 #this is an inceremnet of 0.25\n",
    "while current_x <= maxx:\n",
    "    x_values.append(current_x)  \n",
    "    current_x += increment\n",
    "len(x_values)"
   ]
  },
  {
   "cell_type": "code",
   "execution_count": null,
   "metadata": {},
   "outputs": [],
   "source": [
    "# using miny and maxy, i.e the boundary poits for the grid.\n",
    "# initialize an empty list to store y-values for the custom grid\n",
    "y_values = []\n",
    "# generate y-values\n",
    "current_y = miny\n",
    "increment = 0.25 #this is an inceremnt of 0.25\n",
    "while current_y <= maxy:\n",
    "    y_values.append(current_y)  \n",
    "    current_y += increment\n",
    "len(y_values)"
   ]
  },
  {
   "cell_type": "code",
   "execution_count": null,
   "metadata": {},
   "outputs": [],
   "source": [
    "x_values = np.array(x_values, dtype=float) # x_values are the longitudes and y_values are the latitudes.\n",
    "y_values = np.array(y_values, dtype=float)"
   ]
  },
  {
   "cell_type": "code",
   "execution_count": null,
   "metadata": {},
   "outputs": [],
   "source": [
    "# function to calculate grid parameters\n",
    "def calculate_grid_parameters(coord):\n",
    "    d = np.diff(coord)[0] / 2\n",
    "    cell_boundaries = np.concatenate([[coord[0] - d], coord + d])\n",
    "    return cell_boundaries"
   ]
  },
  {
   "cell_type": "code",
   "execution_count": null,
   "metadata": {},
   "outputs": [],
   "source": [
    "# function to create grid cell taking arguments from x_values and y_values\n",
    "def initialize_and_populate_grid(x_values, y_values):\n",
    "    ngrid_cell = len(x_values) * len(y_values)\n",
    "    grid_cell = [{} for _ in range(ngrid_cell)]\n",
    "    \n",
    "    dy = y_values[1] - y_values[0]\n",
    "    k = 0\n",
    "    \n",
    "    loncell = calculate_grid_parameters(x_values)\n",
    "    latcell = calculate_grid_parameters(y_values)\n",
    "    \n",
    "    for i, lon in enumerate(x_values):\n",
    "        for j, lat in enumerate(y_values):\n",
    "            x_coords = [round(loncell[i], 2), round(loncell[i], 2), round(loncell[i+1], 2), round(loncell[i+1], 2), round(loncell[i], 2)]\n",
    "            y_coords = [round(latcell[j], 2), round(latcell[j+1], 2), round(latcell[j+1], 2), round(latcell[j], 2), round(latcell[j], 2)] if dy > 0 else \\\n",
    "                       [round(latcell[j+1], 2), round(latcell[j], 2), round(latcell[j], 2), round(latcell[j+1], 2), round(latcell[j+1], 2)]\n",
    "            \n",
    "            grid_cell[k] = {'X': x_coords, 'Y': y_coords, 'Xc': round(lon, 2), 'Yc': round(lat, 2)}\n",
    "            k += 1\n",
    "    return grid_cell"
   ]
  },
  {
   "cell_type": "code",
   "execution_count": null,
   "metadata": {},
   "outputs": [],
   "source": [
    "if __name__ == \"__main__\":\n",
    "    grid_cell = initialize_and_populate_grid(x_values, y_values)"
   ]
  },
  {
   "cell_type": "code",
   "execution_count": null,
   "metadata": {},
   "outputs": [],
   "source": [
    "grid_cell"
   ]
  },
  {
   "cell_type": "code",
   "execution_count": null,
   "metadata": {},
   "outputs": [],
   "source": [
    "len(grid_cell)==38*11"
   ]
  },
  {
   "cell_type": "code",
   "execution_count": null,
   "metadata": {},
   "outputs": [],
   "source": [
    "# creating a geodataframe for grid cells as polygons\n",
    "from shapely.geometry import Polygon\n",
    "import geopandas as gpd\n",
    "\n",
    "grid_cells = []\n",
    "\n",
    "for cell in grid_cell:\n",
    "    polygon = Polygon(list(zip(cell['X'], cell['Y'])))\n",
    "    grid_cells.append(polygon)\n",
    "\n",
    "grid_gdf = gpd.GeoDataFrame({'geometry': grid_cells}, crs=gdf.crs)\n",
    "\n",
    "print(grid_gdf.head())"
   ]
  },
  {
   "cell_type": "code",
   "execution_count": null,
   "metadata": {},
   "outputs": [],
   "source": [
    "grid_gdf.iloc[35]"
   ]
  },
  {
   "cell_type": "code",
   "execution_count": null,
   "metadata": {},
   "outputs": [],
   "source": [
    "import matplotlib.pyplot as plt\n",
    "fig, ax = plt.subplots()\n",
    "grid_gdf.boundary.plot(ax=ax, color='blue',label='grid cells')\n",
    "gdf.boundary.plot(ax=ax, color='red',label='basin')\n",
    "plt.legend()\n",
    "plt.show()"
   ]
  },
  {
   "cell_type": "markdown",
   "metadata": {},
   "source": [
    "## We now have to find the total precipitation of the grid, and then find the area average and assign it to Narmada on its centroid"
   ]
  },
  {
   "cell_type": "markdown",
   "metadata": {},
   "source": [
    "### The process of finding weighted average begins"
   ]
  },
  {
   "cell_type": "code",
   "execution_count": null,
   "metadata": {},
   "outputs": [],
   "source": [
    "A=0.25**2 #area of one grid cell."
   ]
  },
  {
   "cell_type": "code",
   "execution_count": null,
   "metadata": {},
   "outputs": [],
   "source": [
    "intersecting_cells = gpd.sjoin(grid_gdf, gdf, how=\"inner\", predicate=\"intersects\")\n",
    "num_intersecting_cells = len(intersecting_cells)\n",
    "print(f\"Number of intersecting cells: {num_intersecting_cells}\")\n"
   ]
  },
  {
   "cell_type": "code",
   "execution_count": null,
   "metadata": {},
   "outputs": [],
   "source": [
    "# Calculate the intersection area\n",
    "intersecting_cells['intersection_area'] = intersecting_cells.apply(lambda row: row['geometry'].intersection(gdf.loc[row['index_right'], 'geometry']).area, axis=1)"
   ]
  },
  {
   "cell_type": "code",
   "execution_count": null,
   "metadata": {},
   "outputs": [],
   "source": [
    "gdf"
   ]
  },
  {
   "cell_type": "code",
   "execution_count": null,
   "metadata": {},
   "outputs": [],
   "source": [
    "grid_gdf"
   ]
  },
  {
   "cell_type": "code",
   "execution_count": null,
   "metadata": {},
   "outputs": [],
   "source": [
    "completely_inside = grid_gdf['geometry'].within(gdf.iloc[0]['geometry'])\n",
    "completely_inside_indices = [index for index, inside in enumerate(grid_gdf['geometry'].within(gdf.iloc[0]['geometry'])) if inside]\n",
    "completely_inside_indices\n",
    "#len(completely_inside_indices)"
   ]
  },
  {
   "cell_type": "code",
   "execution_count": null,
   "metadata": {},
   "outputs": [],
   "source": [
    "#plotting one of the cell, that we found out to be inside the basin, and completely inside\n",
    "import matplotlib.pyplot as plt\n",
    "fig, ax = plt.subplots()\n",
    "grid_gdf.boundary.plot(ax=ax, color='blue', label='grid cells')\n",
    "grid_polygon = grid_gdf.iloc[69]['geometry']\n",
    "ax.fill(*grid_polygon.exterior.xy, color='black', alpha=0.9, label='69th grid cell')\n",
    "gdf.boundary.plot(ax=ax, color='red', label='basin')\n",
    "plt.legend()\n",
    "plt.show()"
   ]
  },
  {
   "cell_type": "code",
   "execution_count": null,
   "metadata": {},
   "outputs": [],
   "source": [
    "#plotting one of the cell, that we found out to be inside the basin, and completely inside\n",
    "import matplotlib.pyplot as plt\n",
    "fig, ax = plt.subplots()\n",
    "grid_gdf.boundary.plot(ax=ax, color='blue', label='grid cells')\n",
    "grid_polygon = grid_gdf.iloc[36]['geometry']\n",
    "ax.fill(*grid_polygon.exterior.xy, color='black', alpha=0.9, label='36th grid cell')\n",
    "gdf.boundary.plot(ax=ax, color='red', label='basin')\n",
    "plt.legend()\n",
    "plt.show()"
   ]
  },
  {
   "cell_type": "code",
   "execution_count": null,
   "metadata": {},
   "outputs": [],
   "source": [
    "grid_cell # we can directly use grid_cell, as its easier to extract"
   ]
  },
  {
   "cell_type": "code",
   "execution_count": null,
   "metadata": {},
   "outputs": [],
   "source": [
    "intersecting_cells.columns"
   ]
  },
  {
   "cell_type": "code",
   "execution_count": null,
   "metadata": {},
   "outputs": [],
   "source": [
    "intersecting_cells['intersection_type'] = 0  # Initialize all values to 0\n",
    "\n",
    "for index in completely_inside_indices:\n",
    "    intersecting_cells.loc[index, 'intersection_type'] = 1\n",
    "\n",
    "intersecting_cells['intersection_type']\n"
   ]
  },
  {
   "cell_type": "code",
   "execution_count": null,
   "metadata": {},
   "outputs": [],
   "source": [
    "l=intersecting_cells.index\n",
    "print(l)"
   ]
  },
  {
   "cell_type": "code",
   "execution_count": null,
   "metadata": {},
   "outputs": [],
   "source": [
    "intersecting_cells['intersection_area']=pd.NA\n",
    "for i in l:\n",
    "    if intersecting_cells['intersection_type'][i]==1:\n",
    "        intersecting_cells['intersection_area']=A\n",
    "    else:\n",
    "        intersecting_cells.loc[i, 'intersection_area'] = intersecting_cells.loc[i, 'geometry'].intersection(gdf.loc[intersecting_cells.loc[i, 'index_right'], 'geometry']).area"
   ]
  },
  {
   "cell_type": "code",
   "execution_count": null,
   "metadata": {},
   "outputs": [],
   "source": [
    "grid_cell[12]"
   ]
  },
  {
   "cell_type": "code",
   "execution_count": null,
   "metadata": {},
   "outputs": [],
   "source": [
    "rain=[]\n",
    "for i in l:\n",
    "    rain.append([grid_cell[i]['Xc'],grid_cell[i]['Yc']])\n",
    "rain_coords=pd.DataFrame(rain) #Centroids."
   ]
  },
  {
   "cell_type": "code",
   "execution_count": null,
   "metadata": {},
   "outputs": [],
   "source": [
    "rain_coords"
   ]
  },
  {
   "cell_type": "code",
   "execution_count": null,
   "metadata": {},
   "outputs": [],
   "source": [
    "# Extracting the lat and lon of the basin for which we will interpolate, the rain at the centorids.\n",
    "lat_req=[]\n",
    "for i in dataset['LATITUDE']:\n",
    "    if miny_grid<i<maxy_grid:\n",
    "        lat_req.append(i)\n",
    "lon_req=[]\n",
    "for j in dataset['LONGITUDE']:\n",
    "    if minx_grid<j<maxx_grid:\n",
    "        lon_req.append(j)"
   ]
  },
  {
   "cell_type": "code",
   "execution_count": null,
   "metadata": {},
   "outputs": [],
   "source": [
    "lon,lat=np.meshgrid(lon_req,lat_req)"
   ]
  },
  {
   "cell_type": "code",
   "execution_count": null,
   "metadata": {},
   "outputs": [],
   "source": [
    "prcp_points= np.column_stack((lon.ravel(), lat.ravel()))"
   ]
  },
  {
   "cell_type": "code",
   "execution_count": null,
   "metadata": {},
   "outputs": [],
   "source": [
    "def interpolate(coords,year,method_used):\n",
    "    #entered coords must be upto accurcay of only 1 digit after the decimal.\n",
    "    import scipy.interpolate as sci\n",
    "    if year==2005:\n",
    "        prcp_values_flat=precipitation['2005'].flatten()\n",
    "    elif year==2015:\n",
    "         prcp_values_flat=precipitation['2015'].flatten()\n",
    "    elif year==2021:\n",
    "         prcp_values_flat=precipitation['2021'].flatten()\n",
    "    if method_used=='linear' or method_used=='bilinear':\n",
    "        if method_used=='bilinear':\n",
    "            return sci.griddata(prcp_points,prcp_values_flat,coords,method='nearest')\n",
    "        else:\n",
    "            return sci.griddata(prcp_points,prcp_values_flat,coords,method='linear')\n",
    "    else :\n",
    "            inter=sci.NearestNDInterpolator(prcp_points,prcp_values_flat,rescale=False,tree_options=None)\n",
    "            return inter(coords)"
   ]
  },
  {
   "cell_type": "code",
   "execution_count": null,
   "metadata": {},
   "outputs": [],
   "source": [
    "def accuracy(y_true,y_interpolated):\n",
    "    # Calculate MAE\n",
    "    mae = np.mean(np.abs(y_interpolated - y_true))\n",
    "    # Calculate MSE\n",
    "    mse = np.mean((y_interpolated - y_true)**2)\n",
    "    # Calculate RMSE\n",
    "    rmse = np.sqrt(mse)\n",
    "    # Calculate R^2 score\n",
    "    mean_true = np.mean(y_true)\n",
    "    r2 = 1 - np.sum((y_true - y_interpolated)**2) / np.sum((y_true - mean_true)**2)\n",
    "    print(\"MAE:\", mae)\n",
    "    print(\"MSE:\", mse)\n",
    "    print(\"RMSE:\", rmse)\n",
    "    print(\"R^2 Score:\", r2)\n"
   ]
  },
  {
   "cell_type": "code",
   "execution_count": null,
   "metadata": {},
   "outputs": [],
   "source": [
    "print(prcp_points.shape,precipitation['2005'].flatten().shape)"
   ]
  },
  {
   "cell_type": "code",
   "execution_count": null,
   "metadata": {},
   "outputs": [],
   "source": [
    "interpolate(rain_coords,2015,'linear')"
   ]
  },
  {
   "cell_type": "code",
   "execution_count": null,
   "metadata": {},
   "outputs": [],
   "source": [
    "interpolate(rain_coords,2015,'bilinear')"
   ]
  },
  {
   "cell_type": "code",
   "execution_count": null,
   "metadata": {},
   "outputs": [],
   "source": [
    "interpolate(rain_coords,2015,'knn')"
   ]
  },
  {
   "cell_type": "code",
   "execution_count": null,
   "metadata": {},
   "outputs": [],
   "source": [
    "intersecting_cells['prcp_2005']=interpolate(rain_coords,2005,'bilinear')\n",
    "intersecting_cells['prcp_2015']=interpolate(rain_coords,2015,'bilinear')\n",
    "intersecting_cells['prcp_2021']=interpolate(rain_coords,2021,'bilinear')"
   ]
  },
  {
   "cell_type": "code",
   "execution_count": null,
   "metadata": {},
   "outputs": [],
   "source": [
    "intersecting_cells['intersection_area'].tail(30)"
   ]
  },
  {
   "cell_type": "code",
   "execution_count": null,
   "metadata": {},
   "outputs": [],
   "source": [
    "# Performing the actual process.\n",
    "def calculate_rain(df,year):\n",
    "    prcp=[]\n",
    "    for i,j in zip(df['intersection_area'], df[f'prcp_{year}']):\n",
    "        const=j/A\n",
    "        prcp.append(const*i)\n",
    "    return prcp"
   ]
  },
  {
   "cell_type": "markdown",
   "metadata": {},
   "source": [
    "we now have to map these values to the respective centroid coords."
   ]
  },
  {
   "cell_type": "code",
   "execution_count": null,
   "metadata": {},
   "outputs": [],
   "source": [
    "# These are centroids, to which we are mapping the rain on the centroid coords.\n",
    "rain_coords['rain_2005']=calculate_rain(intersecting_cells,2005)\n",
    "rain_coords['rain_2015']=calculate_rain(intersecting_cells,2015)\n",
    "rain_coords['rain_2021']=calculate_rain(intersecting_cells,2021)\n",
    "rain_coords.rename(columns={0:'longitude centroids'}, inplace=True)\n",
    "rain_coords.rename(columns={1:'latitude centroids'}, inplace=True)\n",
    "rain_coords"
   ]
  },
  {
   "cell_type": "code",
   "execution_count": null,
   "metadata": {},
   "outputs": [],
   "source": [
    "count = sum(1 for area in intersecting_cells['intersection_area'] if area == A) \n",
    "count"
   ]
  },
  {
   "cell_type": "markdown",
   "metadata": {},
   "source": [
    "We will hvae to insert the prcp data in the grid_cell"
   ]
  },
  {
   "cell_type": "code",
   "execution_count": null,
   "metadata": {},
   "outputs": [],
   "source": [
    "main_centorid_lon=0.0\n",
    "main_centorid_lat=0.0\n",
    "sum_lon=0.0 # x coordinate\n",
    "sum_lat=0.0 # y coordinate\n",
    "for i in grid_cell:\n",
    "    sum_lon+=i['Xc']\n",
    "    sum_lat+=i['Yc']\n",
    "main_centorid_lon=sum_lon/len(grid_cell)\n",
    "main_centorid_lat=sum_lat/len(grid_cell)"
   ]
  },
  {
   "cell_type": "code",
   "execution_count": null,
   "metadata": {},
   "outputs": [],
   "source": [
    "# We now have to just get the weighted average on this coordinate\n",
    "print(main_centorid_lon)\n",
    "print(main_centorid_lat)"
   ]
  },
  {
   "cell_type": "code",
   "execution_count": null,
   "metadata": {},
   "outputs": [],
   "source": [
    "import matplotlib.pyplot as plt\n",
    "# Assuming you already have grid_gdf and gdf defined somewhere in your code\n",
    "fig, ax = plt.subplots()\n",
    "# Plot grid cells boundary\n",
    "grid_gdf.boundary.plot(ax=ax, color='blue', label='grid cells')\n",
    "# Plot basin boundary\n",
    "gdf.boundary.plot(ax=ax, color='red', label='basin')\n",
    "# Plot main centroid\n",
    "ax.scatter(main_centorid_lon, main_centorid_lat, color='black', label='main centroid')\n",
    "plt.legend()\n",
    "plt.show()"
   ]
  },
  {
   "cell_type": "markdown",
   "metadata": {},
   "source": [
    "### Finding the weighted average for 2005, 2015 & 2021"
   ]
  },
  {
   "cell_type": "code",
   "execution_count": null,
   "metadata": {},
   "outputs": [],
   "source": [
    "#temp=[]\n",
    "#for i in range(196):\n",
    "#    temp.append([rain_coords['longitude centroids'][i],rain_coords['latitude centroids'][i]])\n",
    "#print(temp)\n",
    "#print(rain_coords['rain_2005'].shape)"
   ]
  },
  {
   "cell_type": "code",
   "execution_count": null,
   "metadata": {},
   "outputs": [],
   "source": [
    "main_cent_value={'2005':rain_coords['rain_2005'].sum(),'2015':rain_coords['rain_2015'].sum(),'2021':rain_coords['rain_2021'].sum()}"
   ]
  },
  {
   "cell_type": "code",
   "execution_count": null,
   "metadata": {},
   "outputs": [],
   "source": [
    "#import scipy.interpolate as sci\n",
    "#cords=(main_centorid_lon,main_centorid_lat)\n",
    "#weighted_avg={'2005':sci.griddata(temp,rain_coords['rain_2005'],cords,method='linear'),'2015':sci.griddata(temp,rain_coords['rain_2015'],cords,method='linear'),'2021':sci.griddata(temp,rain_coords['rain_2021'],cords,method='linear')}"
   ]
  },
  {
   "cell_type": "code",
   "execution_count": null,
   "metadata": {},
   "outputs": [],
   "source": [
    "# for 2005\n",
    "fig, ax = plt.subplots()\n",
    "# Plot grid cells boundary\n",
    "grid_gdf.boundary.plot(ax=ax, color='blue', label='grid cells')\n",
    "# Plot basin boundary\n",
    "gdf.boundary.plot(ax=ax, color='red', label='basin')\n",
    "# Plot main centroid\n",
    "ax.scatter(main_centorid_lon, main_centorid_lat, color='black', label='main centroid')\n",
    "# Add label or annotation for the main centroid point\n",
    "main_centroid_value=main_cent_value['2005']\n",
    "text_offset = 0.5\n",
    "ax.text(main_centorid_lon, main_centorid_lat-text_offset, f'{main_centroid_value}', color='black', fontsize=13, ha='center')\n",
    "\n",
    "plt.legend()\n",
    "plt.show()\n"
   ]
  },
  {
   "cell_type": "code",
   "execution_count": null,
   "metadata": {},
   "outputs": [],
   "source": [
    "# for 2015\n",
    "fig, ax = plt.subplots()\n",
    "# Plot grid cells boundary\n",
    "grid_gdf.boundary.plot(ax=ax, color='blue', label='grid cells')\n",
    "# Plot basin boundary\n",
    "gdf.boundary.plot(ax=ax, color='red', label='basin')\n",
    "# Plot main centroid\n",
    "ax.scatter(main_centorid_lon, main_centorid_lat, color='black', label='main centroid')\n",
    "# Add label or annotation for the main centroid point\n",
    "main_centroid_value=main_cent_value['2015']\n",
    "text_offset = 0.5\n",
    "ax.text(main_centorid_lon, main_centorid_lat-text_offset, f'{main_centroid_value}', color='black', fontsize=13, ha='center')\n",
    "plt.legend()\n",
    "plt.show()"
   ]
  },
  {
   "cell_type": "code",
   "execution_count": null,
   "metadata": {},
   "outputs": [],
   "source": [
    "# for 2021\n",
    "fig, ax = plt.subplots()\n",
    "# Plot grid cells boundary\n",
    "grid_gdf.boundary.plot(ax=ax, color='blue', label='grid cells')\n",
    "# Plot basin boundary\n",
    "gdf.boundary.plot(ax=ax, color='red', label='basin')\n",
    "# Plot main centroid\n",
    "ax.scatter(main_centorid_lon, main_centorid_lat, color='black', label='main centroid')\n",
    "# Add label or annotation for the main centroid point\n",
    "main_centroid_value=main_cent_value['2021']\n",
    "text_offset = 0.5\n",
    "ax.text(main_centorid_lon, main_centorid_lat-text_offset, f'{main_centroid_value}', color='black', fontsize=13, ha='center')\n",
    "\n",
    "plt.legend()\n",
    "plt.show()\n"
   ]
  }
 ],
 "metadata": {
  "kernelspec": {
   "display_name": "Python 3",
   "language": "python",
   "name": "python3"
  },
  "language_info": {
   "codemirror_mode": {
    "name": "ipython",
    "version": 3
   },
   "file_extension": ".py",
   "mimetype": "text/x-python",
   "name": "python",
   "nbconvert_exporter": "python",
   "pygments_lexer": "ipython3",
   "version": "3.12.4"
  }
 },
 "nbformat": 4,
 "nbformat_minor": 2
}
